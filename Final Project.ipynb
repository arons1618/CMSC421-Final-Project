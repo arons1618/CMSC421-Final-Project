{
 "cells": [
  {
   "cell_type": "markdown",
   "metadata": {},
   "source": [
    "# CMSC421 Final Project"
   ]
  },
  {
   "cell_type": "markdown",
   "metadata": {},
   "source": [
    "Group Memebers: Aron Sun, Jie Zheng, James Poff //type your name in"
   ]
  },
  {
   "cell_type": "code",
   "execution_count": 1,
   "metadata": {},
   "outputs": [],
   "source": [
    "import matplotlib.pyplot as plt\n",
    "import numpy as np\n",
    "import pandas as pd\n",
    "import math\n",
    "from sklearn.preprocessing import StandardScaler\n",
    "from sklearn.preprocessing import MinMaxScaler\n",
    "from sklearn.preprocessing import PolynomialFeatures\n",
    "from pandas.plotting import scatter_matrix\n",
    "\n",
    "from sklearn.linear_model import LinearRegression\n",
    "from sklearn.metrics import mean_squared_error\n",
    "from sklearn.linear_model import SGDRegressor\n",
    "from keras.models import Sequential\n",
    "from keras.layers import Dense   \n",
    "from keras import optimizers\n",
    "\n",
    "from sklearn.tree import DecisionTreeRegressor\n",
    "from sklearn.ensemble import RandomForestRegressor\n",
    "from sklearn.model_selection import cross_val_score\n",
    "from sklearn.ensemble import GradientBoostingRegressor\n",
    "from xgboost import XGBRegressor\n",
    "from sklearn.linear_model import Lasso\n",
    "from sklearn.linear_model import Ridge\n",
    "from sklearn.linear_model import ElasticNet\n",
    "from sklearn.model_selection import GridSearchCV\n",
    "from keras.models import Sequential\n",
    "from keras.layers import Dense\n",
    "from keras.layers import LSTM\n",
    "from sklearn.preprocessing import MinMaxScaler\n",
    "from sklearn.metrics import mean_squared_error\n",
    "from pandas import DataFrame\n",
    "from pandas import concat\n",
    "from keras.models import load_model\n",
    "from keras import optimizers\n",
    "from matplotlib import pyplot\n",
    "from math import sqrt\n",
    "from keras import optimizers\n",
    "import tensorflow as tf"
   ]
  },
  {
   "cell_type": "code",
   "execution_count": 8,
   "metadata": {},
   "outputs": [],
   "source": [
    "from reservoirpy.datasets import mackey_glass\n",
    "from reservoirpy.nodes import Reservoir, Ridge\n",
    "from reservoirpy.observables import rmse, rsquare"
   ]
  },
  {
   "cell_type": "code",
   "execution_count": 2,
   "metadata": {},
   "outputs": [],
   "source": [
    "from datetime import datetime, timedelta\n",
    "# load the data \n",
    "data_frame = pd.read_csv('us-counties.csv')\n",
    "\n",
    "# Isolate out date for a single\n",
    "df = data_frame[data_frame.state=='Texas']\n",
    "df = data_frame.groupby(['date']).sum().reset_index()\n",
    "\n",
    "# Convert date to a string\n",
    "df['date'] = df['date'].astype(\"string\")\n",
    "\n",
    "# Using datetime to convert the date string to a numerical value\n",
    "d2020 = datetime(year = 2020, month = 1, day = 21)\n",
    "\n",
    "date_time = []\n",
    "for i in np.arange(len(df)):\n",
    "    date = (np.array(df['date'].iloc[i].split('-')))\n",
    "    time = datetime(int(date[0]),int(date[1]),int(date[2]))\n",
    "    date_time.append(2020+(time-d2020)/timedelta(days=365.2425))\n",
    "date_time = np.array(date_time)\n"
   ]
  },
  {
   "cell_type": "code",
   "execution_count": 3,
   "metadata": {},
   "outputs": [],
   "source": [
    "from sklearn.model_selection import train_test_split\n",
    "from keras.preprocessing.sequence import TimeseriesGenerator\n",
    "from numpy import array\n",
    "\n",
    "# Function that splits the data into input and ouput sequences\n",
    "def split_seq(sequence, n_steps):\n",
    "    X, y = list(), list()\n",
    "    for i in range(len(sequence)):\n",
    "        end_ix = i + n_steps\n",
    "        if end_ix > len(sequence) - 1:\n",
    "            break\n",
    "        seq_x, seq_y = sequence.iloc[i:end_ix], sequence.iloc[end_ix]\n",
    "        X.append(seq_x)\n",
    "        y.append(seq_y)\n",
    "    return array(X), array(y)\n",
    "\n",
    "# split the training and testing data\n",
    "train_ind = int(len(df)*0.8)\n",
    "train, test = train_test_split(df['cases'], test_size = 0.2, shuffle=False)\n",
    "train_date, test_date = train_test_split(date_time, test_size = 0.2, shuffle=False)\n",
    "\n",
    "# train = df['cases'][:train_ind]\n",
    "# test = df['cases'][train_ind:]\n",
    "\n",
    "\n",
    "# define hyperparameters\n",
    "n_inputs = 3\n",
    "batch_size = 20\n",
    "n_features = 1\n",
    "generator_train = TimeseriesGenerator(train, train, length=n_inputs, batch_size=batch_size)\n",
    "train_in, train_out = split_seq(train, n_inputs)\n",
    "test_in, test_out = split_seq(test, n_inputs)\n",
    "train_out = np.expand_dims(train_out, axis=1)\n",
    "test_out = np.expand_dims(test_out, axis=1)\n",
    "\n",
    "\n",
    "# for i in range(len(generator_test)):\n",
    "#     x, y = generator_test[i]\n",
    "#     print('%s => %s' % (x, y))\n",
    "\n",
    "\n",
    "# define model\n",
    "\n",
    "model = Sequential()\n",
    "# add hidden layer (LSTM)\n",
    "model.add(LSTM(50, activation='relu', input_shape=(n_inputs, n_features)))\n",
    "# add output layer\n",
    "model.add(Dense(1))\n",
    "opt = tf.keras.optimizers.Adam(learning_rate=0.001)\n",
    "model.compile(optimizer=opt, loss='mse', metrics=[tf.keras.metrics.MeanSquaredError()])\n",
    "\n",
    "# fit model\n",
    "history = model.fit(generator_train,\n",
    "                    validation_data = (test_in, test_out),\n",
    "                    steps_per_epoch=1,\n",
    "                    epochs=500,\n",
    "                    verbose=0)\n",
    "\n",
    "train_pred = model.predict(train_in, verbose=0)\n",
    "test_pred = model.predict(test_in, verbose=0)"
   ]
  },
  {
   "cell_type": "code",
   "execution_count": 4,
   "metadata": {},
   "outputs": [
    {
     "data": {
      "text/plain": [
       "[<matplotlib.lines.Line2D at 0x1dd07f3e400>]"
      ]
     },
     "execution_count": 4,
     "metadata": {},
     "output_type": "execute_result"
    },
    {
     "data": {
      "image/png": "[encoded data removed]",
      "text/plain": [
       "<Figure size 432x288 with 1 Axes>"
      ]
     },
     "metadata": {
      "needs_background": "light"
     },
     "output_type": "display_data"
    }
   ],
   "source": [
    "plt.plot(history.history['mean_squared_error'])"
   ]
  },
  {
   "cell_type": "code",
   "execution_count": 5,
   "metadata": {},
   "outputs": [
    {
     "data": {
      "text/plain": [
       "[<matplotlib.lines.Line2D at 0x1dd080507f0>]"
      ]
     },
     "execution_count": 5,
     "metadata": {},
     "output_type": "execute_result"
    },
    {
     "data": {
      "image/png": "[encoded data removed]",
      "text/plain": [
       "<Figure size 432x288 with 1 Axes>"
      ]
     },
     "metadata": {
      "needs_background": "light"
     },
     "output_type": "display_data"
    }
   ],
   "source": [
    "plt.plot(history.history['val_loss'])"
   ]
  },
  {
   "cell_type": "code",
   "execution_count": 134,
   "metadata": {},
   "outputs": [],
   "source": [
    "# loss or mse over time for training\n",
    "# train_mse = np.divide(np.abs(np.subtract(train_out, train_pred)), train_out)\n",
    "\n",
    "# plt.plot(train_date[n_inputs:], train_mse)\n",
    "\n",
    "# plt.axis([min(train_date), max(train_date), 0, max(train_mse)*1.1])\n",
    "# plt.show()"
   ]
  },
  {
   "cell_type": "code",
   "execution_count": 135,
   "metadata": {},
   "outputs": [],
   "source": [
    "# loss or mse over time for testing\n",
    "# test_mse = np.square(np.subtract(test_out, test_pred))\n",
    "\n",
    "# plt.plot(test_date[n_inputs:], test_mse)\n",
    "\n",
    "# plt.axis([min(test_date), max(test_date), 0, max(test_mse)*1.1])\n",
    "# plt.show()\n"
   ]
  },
  {
   "cell_type": "code",
   "execution_count": 6,
   "metadata": {},
   "outputs": [
    {
     "data": {
      "image/png": "[encoded data removed]",
      "text/plain": [
       "<Figure size 432x288 with 1 Axes>"
      ]
     },
     "metadata": {
      "needs_background": "light"
     },
     "output_type": "display_data"
    }
   ],
   "source": [
    "# training set actual vs prediction plot\n",
    "plt.plot(train_date[n_inputs:], train_out)\n",
    "plt.plot(train_date[n_inputs:], train_pred)\n",
    "\n",
    "plt.axis([min(train_date), max(train_date), 0, max(train_pred)*1.1])\n",
    "plt.legend(['actual', 'prediction'])\n",
    "plt.show()"
   ]
  },
  {
   "cell_type": "code",
   "execution_count": 7,
   "metadata": {},
   "outputs": [
    {
     "data": {
      "image/png": "[encoded data removed]",
      "text/plain": [
       "<Figure size 432x288 with 1 Axes>"
      ]
     },
     "metadata": {
      "needs_background": "light"
     },
     "output_type": "display_data"
    }
   ],
   "source": [
    "# testing set actual vs prediction plot\n",
    "plt.plot(test_date[n_inputs:], test_out)\n",
    "plt.plot(test_date[n_inputs:], test_pred)\n",
    "\n",
    "plt.axis([min(test_date), max(test_date), 0, max(test_pred)*1.1])\n",
    "plt.legend(['actual', 'prediction'])\n",
    "plt.show()"
   ]
  },
  {
   "cell_type": "code",
   "execution_count": 28,
   "metadata": {},
   "outputs": [],
   "source": [
    "cases = df['cases'].values"
   ]
  },
  {
   "cell_type": "code",
   "execution_count": null,
   "metadata": {},
   "outputs": [],
   "source": []
  },
  {
   "cell_type": "code",
   "execution_count": 41,
   "metadata": {},
   "outputs": [
    {
     "data": {
      "text/plain": [
       "(674, 1)"
      ]
     },
     "execution_count": 41,
     "metadata": {},
     "output_type": "execute_result"
    }
   ],
   "source": [
    "cases = cases.reshape((len(cases), 1))\n",
    "cases.shape"
   ]
  },
  {
   "cell_type": "code",
   "execution_count": 33,
   "metadata": {},
   "outputs": [
    {
     "data": {
      "text/plain": [
       "(2000, 1)"
      ]
     },
     "execution_count": 33,
     "metadata": {},
     "output_type": "execute_result"
    }
   ],
   "source": [
    "X = mackey_glass(n_timesteps=2000)\n",
    "X.shape"
   ]
  },
  {
   "cell_type": "code",
   "execution_count": 47,
   "metadata": {},
   "outputs": [
    {
     "name": "stderr",
     "output_type": "stream",
     "text": [
      "Running Model-11:   0%|          | 0/1 [00:00<?, ?it/s]\n",
      "Running SubModel-f0591c05-2ae4-4430-8098-b0a7cb24b3d0: 100it [00:00, 3030.72it/s]           \u001b[A\n",
      "Running Model-11: 100%|██████████| 1/1 [00:00<00:00, 24.39it/s]\n"
     ]
    },
    {
     "name": "stdout",
     "output_type": "stream",
     "text": [
      "Fitting node Ridge-11...\n"
     ]
    },
    {
     "name": "stderr",
     "output_type": "stream",
     "text": [
      "Running Model-11: 100%|██████████| 572/572 [00:00<00:00, 2831.70it/s]"
     ]
    },
    {
     "name": "stdout",
     "output_type": "stream",
     "text": [
      "RMSE: 26369892.662817743 R^2 score: -2.1039038788895814\n"
     ]
    },
    {
     "name": "stderr",
     "output_type": "stream",
     "text": [
      "\n"
     ]
    }
   ],
   "source": [
    "reservoir = Reservoir(units=100, lr=0.3, sr=1.25)\n",
    "readout   = Ridge(output_dim=1, ridge=1e-5)\n",
    "esn = reservoir >> readout\n",
    "esn\n",
    "predictions = esn.fit(cases[:100], cases[1:101]).run(cases[101:-1])\n",
    "print(\"RMSE:\", rmse(cases[102:], predictions), \n",
    "      \"R^2 score:\", rsquare(cases[102:], predictions))"
   ]
  },
  {
   "cell_type": "code",
   "execution_count": 48,
   "metadata": {},
   "outputs": [
    {
     "data": {
      "image/png": "[encoded data removed]",
      "text/plain": [
       "<Figure size 432x288 with 1 Axes>"
      ]
     },
     "metadata": {
      "needs_background": "light"
     },
     "output_type": "display_data"
    }
   ],
   "source": [
    "plt.plot(predictions)\n",
    "plt.show()"
   ]
  },
  {
   "cell_type": "code",
   "execution_count": null,
   "metadata": {},
   "outputs": [],
   "source": []
  }
 ],
 "metadata": {
  "kernelspec": {
   "display_name": "Python 3 (ipykernel)",
   "language": "python",
   "name": "python3"
  },
  "language_info": {
   "codemirror_mode": {
    "name": "ipython",
    "version": 3
   },
   "file_extension": ".py",
   "mimetype": "text/x-python",
   "name": "python",
   "nbconvert_exporter": "python",
   "pygments_lexer": "ipython3",
   "version": "3.9.4"
  }
 },
 "nbformat": 4,
 "nbformat_minor": 4
}
