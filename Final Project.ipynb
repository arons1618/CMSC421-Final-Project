{
 "cells": [
  {
   "cell_type": "markdown",
   "metadata": {},
   "source": [
    "# CMSC421 Final Project"
   ]
  },
  {
   "cell_type": "markdown",
   "metadata": {},
   "source": [
    "Group Memebers: Aron Sun, Jie Zheng //type your name in"
   ]
  },
  {
   "cell_type": "code",
   "execution_count": 2,
   "metadata": {},
   "outputs": [],
   "source": [
    "import matplotlib.pyplot as plt\n",
    "import numpy as np\n",
    "import pandas as pd\n",
    "import math\n",
    "from sklearn.preprocessing import StandardScaler\n",
    "from sklearn.preprocessing import MinMaxScaler\n",
    "from sklearn.preprocessing import PolynomialFeatures\n",
    "from pandas.plotting import scatter_matrix\n",
    "\n",
    "from sklearn.linear_model import LinearRegression\n",
    "from sklearn.metrics import mean_squared_error\n",
    "from sklearn.linear_model import SGDRegressor\n",
    "from keras.models import Sequential\n",
    "from keras.layers import Dense   \n",
    "from keras import optimizers\n",
    "\n",
    "from sklearn.tree import DecisionTreeRegressor\n",
    "from sklearn.ensemble import RandomForestRegressor\n",
    "from sklearn.model_selection import cross_val_score\n",
    "from sklearn.ensemble import GradientBoostingRegressor\n",
    "from xgboost import XGBRegressor\n",
    "from sklearn.linear_model import Lasso\n",
    "from sklearn.linear_model import Ridge\n",
    "from sklearn.linear_model import ElasticNet\n",
    "from sklearn.model_selection import GridSearchCV\n",
    "from keras.models import Sequential\n",
    "from keras.layers import Dense\n",
    "from keras.layers import LSTM\n",
    "from sklearn.preprocessing import MinMaxScaler\n",
    "from sklearn.metrics import mean_squared_error\n",
    "from pandas import DataFrame\n",
    "from pandas import concat\n",
    "from keras.models import load_model\n",
    "from keras import optimizers\n",
    "from matplotlib import pyplot\n",
    "from math import sqrt\n",
    "from keras import optimizers\n",
    "import tensorflow as tf"
   ]
  },
  {
   "cell_type": "code",
   "execution_count": 3,
   "metadata": {},
   "outputs": [],
   "source": [
    "from reservoirpy.datasets import mackey_glass\n",
    "from reservoirpy.nodes import Reservoir, Ridge\n",
    "from reservoirpy.observables import rmse, rsquare"
   ]
  },
  {
   "cell_type": "code",
   "execution_count": 4,
   "metadata": {},
   "outputs": [],
   "source": [
    "from datetime import datetime, timedelta\n",
    "# load the data \n",
    "data_frame = pd.read_csv('us-counties.csv')\n",
    "\n",
    "# Isolate out date for a single\n",
    "df = data_frame[data_frame.state=='Texas']\n",
    "df = data_frame.groupby(['date']).sum().reset_index()\n",
    "\n",
    "# Convert date to a string\n",
    "df['date'] = df['date'].astype(\"string\")\n",
    "\n",
    "# Using datetime to convert the date string to a numerical value\n",
    "d2020 = datetime(year = 2020, month = 1, day = 21)\n",
    "\n",
    "date_time = []\n",
    "for i in np.arange(len(df)):\n",
    "    date = (np.array(df['date'].iloc[i].split('-')))\n",
    "    time = datetime(int(date[0]),int(date[1]),int(date[2]))\n",
    "    date_time.append(2020+(time-d2020)/timedelta(days=365.2425))\n",
    "date_time = np.array(date_time)\n"
   ]
  },
  {
   "cell_type": "code",
   "execution_count": 6,
   "metadata": {},
   "outputs": [],
   "source": [
    "from sklearn.model_selection import train_test_split\n",
    "from keras.preprocessing.sequence import TimeseriesGenerator\n",
    "from numpy import array\n",
    "\n",
    "# Function that splits the data into input and ouput sequences\n",
    "def split_seq(sequence, n_steps):\n",
    "    X, y = list(), list()\n",
    "    for i in range(len(sequence)):\n",
    "        end_ix = i + n_steps\n",
    "        if end_ix > len(sequence) - 1:\n",
    "            break\n",
    "        seq_x, seq_y = sequence.iloc[i:end_ix], sequence.iloc[end_ix]\n",
    "        X.append(seq_x)\n",
    "        y.append(seq_y)\n",
    "    return array(X), array(y)\n",
    "\n",
    "# split the training and testing data\n",
    "train_ind = int(len(df)*0.8)\n",
    "train, test = train_test_split(df['cases'], test_size = 0.2, shuffle=False)\n",
    "train_date, test_date = train_test_split(date_time, test_size = 0.2, shuffle=False)\n",
    "\n",
    "# train = df['cases'][:train_ind]\n",
    "# test = df['cases'][train_ind:]\n",
    "\n",
    "\n",
    "# define hyperparameters\n",
    "n_inputs = 3\n",
    "batch_size = 20\n",
    "n_features = 1\n",
    "generator_train = TimeseriesGenerator(train, train, length=n_inputs, batch_size=batch_size)\n",
    "train_in, train_out = split_seq(train, n_inputs)\n",
    "test_in, test_out = split_seq(test, n_inputs)\n",
    "train_out = np.expand_dims(train_out, axis=1)\n",
    "test_out = np.expand_dims(test_out, axis=1)\n",
    "\n",
    "\n",
    "# for i in range(len(generator_test)):\n",
    "#     x, y = generator_test[i]\n",
    "#     print('%s => %s' % (x, y))\n",
    "\n",
    "\n",
    "# define model\n",
    "\n",
    "model = Sequential()\n",
    "# add hidden layer (LSTM)\n",
    "model.add(LSTM(50, activation='relu', input_shape=(n_inputs, n_features)))\n",
    "# add output layer\n",
    "model.add(Dense(1))\n",
    "opt = tf.keras.optimizers.Adam(learning_rate=0.001)\n",
    "model.compile(optimizer=opt, loss='mse', metrics=[tf.keras.metrics.MeanSquaredError()])\n",
    "\n",
    "# fit model\n",
    "history = model.fit(generator_train,\n",
    "                    validation_data = (test_in, test_out),\n",
    "                    steps_per_epoch=1,\n",
    "                    epochs=500,\n",
    "                    verbose=0)\n",
    "\n",
    "train_pred = model.predict(train_in, verbose=0)\n",
    "test_pred = model.predict(test_in, verbose=0)"
   ]
  },
  {
   "cell_type": "code",
   "execution_count": 4,
   "metadata": {},
   "outputs": [
    {
     "data": {
      "text/plain": [
       "[<matplotlib.lines.Line2D at 0x1dd07f3e400>]"
      ]
     },
     "execution_count": 4,
     "metadata": {},
     "output_type": "execute_result"
    },
    {
     "data": {
      "image/png": "[encoded data removed]",
      "text/plain": [
       "<Figure size 432x288 with 1 Axes>"
      ]
     },
     "metadata": {
      "needs_background": "light"
     },
     "output_type": "display_data"
    }
   ],
   "source": [
    "plt.plot(history.history['mean_squared_error'])"
   ]
  },
  {
   "cell_type": "code",
   "execution_count": 5,
   "metadata": {},
   "outputs": [
    {
     "data": {
      "text/plain": [
       "[<matplotlib.lines.Line2D at 0x1dd080507f0>]"
      ]
     },
     "execution_count": 5,
     "metadata": {},
     "output_type": "execute_result"
    },
    {
     "data": {
      "image/png": "[encoded data removed]",
      "text/plain": [
       "<Figure size 432x288 with 1 Axes>"
      ]
     },
     "metadata": {
      "needs_background": "light"
     },
     "output_type": "display_data"
    }
   ],
   "source": [
    "plt.plot(history.history['val_loss'])"
   ]
  },
  {
   "cell_type": "code",
   "execution_count": 134,
   "metadata": {},
   "outputs": [],
   "source": [
    "# loss or mse over time for training\n",
    "# train_mse = np.divide(np.abs(np.subtract(train_out, train_pred)), train_out)\n",
    "\n",
    "# plt.plot(train_date[n_inputs:], train_mse)\n",
    "\n",
    "# plt.axis([min(train_date), max(train_date), 0, max(train_mse)*1.1])\n",
    "# plt.show()"
   ]
  },
  {
   "cell_type": "code",
   "execution_count": 135,
   "metadata": {},
   "outputs": [],
   "source": [
    "# loss or mse over time for testing\n",
    "# test_mse = np.square(np.subtract(test_out, test_pred))\n",
    "\n",
    "# plt.plot(test_date[n_inputs:], test_mse)\n",
    "\n",
    "# plt.axis([min(test_date), max(test_date), 0, max(test_mse)*1.1])\n",
    "# plt.show()\n"
   ]
  },
  {
   "cell_type": "code",
   "execution_count": 18,
   "metadata": {},
   "outputs": [
    {
     "data": {
      "image/png": "[encoded data removed]",
      "text/plain": [
       "<Figure size 432x288 with 1 Axes>"
      ]
     },
     "metadata": {
      "needs_background": "light"
     },
     "output_type": "display_data"
    }
   ],
   "source": [
    "# training set actual vs prediction plot\n",
    "plt.plot(train_date[n_inputs:], train_out)\n",
    "plt.plot(train_date[n_inputs:], train_pred)\n",
    "\n",
    "plt.axis([min(train_date), max(train_date), 0, max(train_pred)*1.1])\n",
    "plt.legend(['actual', 'prediction'])\n",
    "plt.show()"
   ]
  },
  {
   "cell_type": "code",
   "execution_count": 19,
   "metadata": {
    "pycharm": {
     "name": "#%%\n"
    }
   },
   "outputs": [
    {
     "data": {
      "image/png": "[encoded data removed]",
      "text/plain": [
       "<Figure size 432x288 with 1 Axes>"
      ]
     },
     "metadata": {
      "needs_background": "light"
     },
     "output_type": "display_data"
    }
   ],
   "source": [
    "# testing set actual vs prediction plot\n",
    "plt.plot(test_date[n_inputs:], test_out)\n",
    "plt.plot(test_date[n_inputs:], test_pred)\n",
    "\n",
    "plt.axis([min(test_date), max(test_date), 0, max(test_pred)*1.1])\n",
    "plt.legend(['actual', 'prediction'])\n",
    "plt.show()"
   ]
  },
  {
   "cell_type": "code",
   "execution_count": 20,
   "metadata": {},
   "outputs": [
    {
     "data": {
      "image/png": "[encoded data removed]",
      "text/plain": [
       "<Figure size 432x288 with 1 Axes>"
      ]
     },
     "metadata": {
      "needs_background": "light"
     },
     "output_type": "display_data"
    }
   ],
   "source": [
    "plt.plot(test_out)\n",
    "plt.plot(test_pred)\n",
    "\n",
    "plt.show()"
   ]
  },
  {
   "cell_type": "code",
   "execution_count": 5,
   "metadata": {},
   "outputs": [],
   "source": [
    "from easyesn import PredictionESN\n",
    "from easyesn.optimizers import GradientOptimizer\n",
    "from easyesn.optimizers import GridSearchOptimizer"
   ]
  },
  {
   "cell_type": "code",
   "execution_count": 9,
   "metadata": {},
   "outputs": [
    {
     "name": "stderr",
     "output_type": "stream",
     "text": [
      "100% (436 of 436) |######################| Elapsed Time: 0:00:00 Time:  0:00:00\n"
     ]
    },
    {
     "data": {
      "text/plain": [
       "17991.142211054674"
      ]
     },
     "execution_count": 9,
     "metadata": {},
     "output_type": "execute_result"
    }
   ],
   "source": [
    "esn = PredictionESN(n_input=3, n_output=1, n_reservoir=500, leakingRate=0.2, spectralRadius=0.2, regressionParameters=[1e-2])\n",
    "esn.fit(train_in, train_out, transientTime=100, verbose=1)"
   ]
  },
  {
   "cell_type": "code",
   "execution_count": 12,
   "metadata": {},
   "outputs": [],
   "source": [
    "y_test_pred = esn.predict(test_in)"
   ]
  },
  {
   "cell_type": "code",
   "execution_count": 13,
   "metadata": {},
   "outputs": [
    {
     "data": {
      "text/plain": [
       "array([[34083564.44599221],\n",
       "       [34143713.00412676],\n",
       "       [34141036.47992346],\n",
       "       [34133142.4837992 ],\n",
       "       [34217889.1298549 ],\n",
       "       [34300636.50042794],\n",
       "       [34360733.10547898],\n",
       "       [34428430.78871796],\n",
       "       [34522565.59725546],\n",
       "       [34517985.88937878],\n",
       "       [34504452.8403809 ],\n",
       "       [34637040.68598292],\n",
       "       [34781342.09465144],\n",
       "       [34859869.31149838],\n",
       "       [34957053.81118605],\n",
       "       [35097896.88638566],\n",
       "       [35087128.31632302],\n",
       "       [35071107.48434804],\n",
       "       [35265364.59202073],\n",
       "       [35466314.49831652],\n",
       "       [35563777.15659975],\n",
       "       [35684233.76204275],\n",
       "       [35880363.62835571],\n",
       "       [35870678.71482393],\n",
       "       [35855620.6876137 ],\n",
       "       [36108408.01650068],\n",
       "       [36315838.22720358],\n",
       "       [36461715.46217796],\n",
       "       [36589004.77577564],\n",
       "       [36796139.35784361],\n",
       "       [36790867.18237423],\n",
       "       [36779285.5193603 ],\n",
       "       [37152015.13352703],\n",
       "       [37319633.48004076],\n",
       "       [37451274.66670343],\n",
       "       [37615786.16492245],\n",
       "       [37834005.90835258],\n",
       "       [37863979.35817358],\n",
       "       [37838055.68383142],\n",
       "       [38210085.11603138],\n",
       "       [38386802.64995596],\n",
       "       [38524191.14285635],\n",
       "       [38728343.97036862],\n",
       "       [38934641.66662287],\n",
       "       [38963476.50739595],\n",
       "       [38940306.98334238],\n",
       "       [39331711.44509622],\n",
       "       [39521015.17014048],\n",
       "       [39712914.10273001],\n",
       "       [39888479.68073007],\n",
       "       [40074620.12017652],\n",
       "       [40079220.96885607],\n",
       "       [40064177.27534079],\n",
       "       [40150153.06228422],\n",
       "       [40583526.80836987],\n",
       "       [40793184.16167375],\n",
       "       [40911449.25234291],\n",
       "       [41085183.77892372],\n",
       "       [41106092.85177681],\n",
       "       [41088054.47093174],\n",
       "       [41491252.11800072],\n",
       "       [41669172.42954418],\n",
       "       [41797792.68575022],\n",
       "       [41950576.94313215],\n",
       "       [42117737.69953036],\n",
       "       [42137295.48218989],\n",
       "       [42124368.24844286],\n",
       "       [42411657.35649273],\n",
       "       [42563510.39001486],\n",
       "       [42690611.00093147],\n",
       "       [42814560.61585924],\n",
       "       [42953590.10733435],\n",
       "       [42962437.24255201],\n",
       "       [42953779.93298742],\n",
       "       [43227918.93094753],\n",
       "       [43358643.52665209],\n",
       "       [43464394.16885828],\n",
       "       [43579815.86239979],\n",
       "       [43706086.6055176 ],\n",
       "       [43710320.07329676],\n",
       "       [43695372.6434395 ],\n",
       "       [43939734.76495811],\n",
       "       [44054483.51329443],\n",
       "       [44167010.41820785],\n",
       "       [44271851.16599819],\n",
       "       [44381058.4795978 ],\n",
       "       [44380828.16149353],\n",
       "       [44367540.07667231],\n",
       "       [44539695.98942491],\n",
       "       [44683053.06908867],\n",
       "       [44782388.08123037],\n",
       "       [44860091.22422811],\n",
       "       [44957159.40706655],\n",
       "       [44959577.31279966],\n",
       "       [44950971.44915316],\n",
       "       [45122177.73510763],\n",
       "       [45223299.79349159],\n",
       "       [45296985.82657313],\n",
       "       [45377590.48783898],\n",
       "       [45466021.19761202],\n",
       "       [45467148.21726868],\n",
       "       [45455641.37614557],\n",
       "       [45603751.13328144],\n",
       "       [45715092.5570862 ],\n",
       "       [45806613.43013594],\n",
       "       [45891076.67283317],\n",
       "       [45978033.26711962],\n",
       "       [45976695.6621921 ],\n",
       "       [45967446.19589543],\n",
       "       [46144623.94694638],\n",
       "       [46236243.7175152 ],\n",
       "       [46307284.4719145 ],\n",
       "       [46392475.7247164 ],\n",
       "       [46488270.79988644],\n",
       "       [46491517.52958128],\n",
       "       [46485636.16071483],\n",
       "       [46664260.47356483],\n",
       "       [46764671.12491152],\n",
       "       [46854751.38687014],\n",
       "       [46906906.84652304],\n",
       "       [47058141.33304667],\n",
       "       [47107796.01254484],\n",
       "       [47085412.95479557],\n",
       "       [47286650.92288086],\n",
       "       [47393532.5628235 ],\n",
       "       [47498656.19996092],\n",
       "       [47615865.0988228 ],\n",
       "       [47739043.49211809],\n",
       "       [47741650.95785782],\n",
       "       [47738030.14798378],\n",
       "       [47961554.37268423],\n",
       "       [48067403.23592924]])"
      ]
     },
     "execution_count": 13,
     "metadata": {},
     "output_type": "execute_result"
    }
   ],
   "source": [
    "y_test_pred"
   ]
  },
  {
   "cell_type": "code",
   "execution_count": 16,
   "metadata": {},
   "outputs": [
    {
     "data": {
      "image/png": "[encoded data removed]",
      "text/plain": [
       "<Figure size 432x288 with 1 Axes>"
      ]
     },
     "metadata": {
      "needs_background": "light"
     },
     "output_type": "display_data"
    }
   ],
   "source": [
    "plt.plot(y_test_pred)\n",
    "plt.plot(test_out)\n",
    "plt.show()"
   ]
  },
  {
   "cell_type": "code",
   "execution_count": null,
   "metadata": {},
   "outputs": [],
   "source": []
  }
 ],
 "metadata": {
  "kernelspec": {
   "display_name": "Python 3 (ipykernel)",
   "language": "python",
   "name": "python3"
  },
  "language_info": {
   "codemirror_mode": {
    "name": "ipython",
    "version": 3
   },
   "file_extension": ".py",
   "mimetype": "text/x-python",
   "name": "python",
   "nbconvert_exporter": "python",
   "pygments_lexer": "ipython3",
   "version": "3.9.4"
  }
 },
 "nbformat": 4,
 "nbformat_minor": 4
}
